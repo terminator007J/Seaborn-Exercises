{
  "nbformat": 4,
  "nbformat_minor": 0,
  "metadata": {
    "colab": {
      "name": "Seaborn.ipynb",
      "provenance": [],
      "private_outputs": true
    },
    "kernelspec": {
      "name": "python3",
      "display_name": "Python 3"
    }
  },
  "cells": [
    {
      "cell_type": "code",
      "metadata": {
        "id": "312R0AUBCZD6",
        "colab_type": "code",
        "colab": {}
      },
      "source": [
        "import numpy as np\n",
        "import pandas as pd\n",
        "import matplotlib.pyplot as plt\n",
        "import seaborn as sns"
      ],
      "execution_count": null,
      "outputs": []
    },
    {
      "cell_type": "code",
      "metadata": {
        "id": "A1D8IwXmCljy",
        "colab_type": "code",
        "colab": {}
      },
      "source": [
        "cars_data= pd.read_csv('/content/ToyotaCorolla.txt')\n",
        "cars_data"
      ],
      "execution_count": null,
      "outputs": []
    },
    {
      "cell_type": "markdown",
      "metadata": {
        "id": "vo4O_9eWEtSk",
        "colab_type": "text"
      },
      "source": [
        "## Scatter Plot"
      ]
    },
    {
      "cell_type": "code",
      "metadata": {
        "id": "t45b7jbcC0aY",
        "colab_type": "code",
        "colab": {}
      },
      "source": [
        "sns.set(style='darkgrid')\n",
        "sns.regplot('Age','Price',cars_data,fit_reg=False,marker='*')\n",
        "plt.title('Price vs Age')\n",
        "plt.show()"
      ],
      "execution_count": null,
      "outputs": []
    },
    {
      "cell_type": "code",
      "metadata": {
        "id": "-OtJmxGSDpD7",
        "colab_type": "code",
        "colab": {}
      },
      "source": [
        "sns.set_style(style='darkgrid')\n",
        "sns.lmplot('Age','Price',cars_data,'FuelType',palette='Set1',fit_reg=False)"
      ],
      "execution_count": null,
      "outputs": []
    },
    {
      "cell_type": "markdown",
      "metadata": {
        "id": "ofrS72NNExn0",
        "colab_type": "text"
      },
      "source": [
        "## Histogram"
      ]
    },
    {
      "cell_type": "code",
      "metadata": {
        "id": "EcityQddElU2",
        "colab_type": "code",
        "colab": {}
      },
      "source": [
        "sns.distplot(cars_data['KM'],bins=5,kde=False)"
      ],
      "execution_count": null,
      "outputs": []
    },
    {
      "cell_type": "code",
      "metadata": {
        "id": "fdiGxLcoFLH1",
        "colab_type": "code",
        "colab": {}
      },
      "source": [
        "sns.distplot(cars_data['Age'],bins=5,kde=False,color='b')"
      ],
      "execution_count": null,
      "outputs": []
    },
    {
      "cell_type": "markdown",
      "metadata": {
        "id": "pAA_wjRxFY8p",
        "colab_type": "text"
      },
      "source": [
        "## Bar Plot"
      ]
    },
    {
      "cell_type": "code",
      "metadata": {
        "id": "HgeYTddsFeGU",
        "colab_type": "code",
        "colab": {}
      },
      "source": [
        "sns.countplot(x=cars_data['FuelType'])"
      ],
      "execution_count": null,
      "outputs": []
    },
    {
      "cell_type": "markdown",
      "metadata": {
        "id": "5XN7vz6XIcLL",
        "colab_type": "text"
      },
      "source": [
        "## Group Bar Plot"
      ]
    },
    {
      "cell_type": "code",
      "metadata": {
        "id": "581GvUAvHqXk",
        "colab_type": "code",
        "colab": {}
      },
      "source": [
        "sns.countplot('FuelType',hue='Automatic',data=cars_data)"
      ],
      "execution_count": null,
      "outputs": []
    },
    {
      "cell_type": "markdown",
      "metadata": {
        "id": "gZpLU7iHIgwU",
        "colab_type": "text"
      },
      "source": [
        "## Box and Whiskers Plot"
      ]
    },
    {
      "cell_type": "code",
      "metadata": {
        "id": "degsjghXIR77",
        "colab_type": "code",
        "colab": {}
      },
      "source": [
        "sns.boxplot(cars_data['FuelType'],cars_data['Price'])"
      ],
      "execution_count": null,
      "outputs": []
    },
    {
      "cell_type": "markdown",
      "metadata": {
        "id": "F-LQaXb9J3cP",
        "colab_type": "text"
      },
      "source": [
        "## For 3 Variables"
      ]
    },
    {
      "cell_type": "code",
      "metadata": {
        "id": "9MDt3wCQJ6nj",
        "colab_type": "code",
        "colab": {}
      },
      "source": [
        "sns.boxplot('FuelType','Price','Automatic',cars_data)"
      ],
      "execution_count": null,
      "outputs": []
    },
    {
      "cell_type": "markdown",
      "metadata": {
        "id": "3dSiVISIKcPH",
        "colab_type": "text"
      },
      "source": [
        "## Split Screen with Different Plots"
      ]
    },
    {
      "cell_type": "code",
      "metadata": {
        "id": "cdjneLEHKa63",
        "colab_type": "code",
        "colab": {}
      },
      "source": [
        " s,[ax_box,ax_hist]= plt.subplots(2,gridspec_kw={'height_ratios':(.15,.85)})\n",
        " sns.boxplot(cars_data['Price'],ax=ax_box)\n",
        " sns.distplot(cars_data['Price'],ax=ax_hist,kde=False)"
      ],
      "execution_count": null,
      "outputs": []
    },
    {
      "cell_type": "markdown",
      "metadata": {
        "id": "67CRs4m_L0NU",
        "colab_type": "text"
      },
      "source": [
        "## Pairwise Plot"
      ]
    },
    {
      "cell_type": "code",
      "metadata": {
        "id": "bvr25hO3MKl0",
        "colab_type": "code",
        "colab": {}
      },
      "source": [
        "sns.pairplot(cars_data,kind='scatter',hue='FuelType')"
      ],
      "execution_count": null,
      "outputs": []
    }
  ]
}